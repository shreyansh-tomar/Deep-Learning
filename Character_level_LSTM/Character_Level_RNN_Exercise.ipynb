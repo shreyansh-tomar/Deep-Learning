{
  "nbformat": 4,
  "nbformat_minor": 0,
  "metadata": {
    "kernelspec": {
      "name": "python3",
      "display_name": "Python 3"
    },
    "language_info": {
      "codemirror_mode": {
        "name": "ipython",
        "version": 3
      },
      "file_extension": ".py",
      "mimetype": "text/x-python",
      "name": "python",
      "nbconvert_exporter": "python",
      "pygments_lexer": "ipython3",
      "version": "3.7.4"
    },
    "colab": {
      "name": "Character_Level_RNN_Exercise.ipynb",
      "provenance": []
    },
    "accelerator": "GPU"
  },
  "cells": [
    {
      "cell_type": "markdown",
      "metadata": {
        "colab_type": "text",
        "id": "5O50JBoCftA5"
      },
      "source": [
        "# Character-Level LSTM in PyTorch\n",
        "\n",
        "In this notebook, I'll construct a character-level LSTM with PyTorch. The network will train character by character on some text, then generate new text character by character. As an example, I will train on Anna Karenina. **This model will be able to generate new text based on the text from the book!**\n",
        "\n",
        "This network is based off of Andrej Karpathy's [post on RNNs](http://karpathy.github.io/2015/05/21/rnn-effectiveness/) and [implementation in Torch](https://github.com/karpathy/char-rnn). Below is the general architecture of the character-wise RNN.\n",
        "\n",
        "<img src=\"assets/charseq.jpeg\" width=\"500\">"
      ]
    },
    {
      "cell_type": "code",
      "execution_count": 0,
      "metadata": {
        "colab": {},
        "colab_type": "code",
        "id": "DAlm3WPKftBI"
      },
      "outputs": [],
      "source": [
        "import numpy as np\n",
        "import torch\n",
        "from torch import nn\n",
        "import torch.nn.functional as F"
      ]
    },
    {
      "cell_type": "markdown",
      "metadata": {
        "colab_type": "text",
        "id": "iyBuFKz8ftBb"
      },
      "source": [
        "## Load in Data\n",
        "\n",
        "Then, we'll load the Anna Karenina text file and convert it into integers for our network to use. "
      ]
    },
    {
      "cell_type": "code",
      "execution_count": 0,
      "metadata": {
        "colab": {},
        "colab_type": "code",
        "id": "yaqZDg3UftBe"
      },
      "outputs": [],
      "source": [
        "# open text file and read in data as `text`\n",
        "with open('assets/anna.txt', 'r') as f:\n",
        "    text = f.read()"
      ]
    },
    {
      "cell_type": "markdown",
      "metadata": {
        "colab_type": "text",
        "id": "aYBg5W4SftBt"
      },
      "source": [
        "Let's check out the first 100 characters, make sure everything is peachy. According to the [American Book Review](http://americanbookreview.org/100bestlines.asp), this is the 6th best first line of a book ever."
      ]
    },
    {
      "cell_type": "code",
      "execution_count": 6,
      "metadata": {
        "colab": {
          "base_uri": "https://localhost:8080/",
          "height": 34
        },
        "colab_type": "code",
        "id": "fuitayw_ftBw",
        "outputId": "c7d32c25-ce31-463b-b3e9-f3ba1ee49c98"
      },
      "outputs": [
        {
          "data": {
            "text/plain": [
              "'Chapter 1\\n\\n\\nHappy families are all alike; every unhappy family is unhappy in its own\\nway.\\n\\nEverythin'"
            ]
          },
          "execution_count": 6,
          "metadata": {
            "tags": []
          },
          "output_type": "execute_result"
        }
      ],
      "source": [
        "text[:100]"
      ]
    },
    {
      "cell_type": "markdown",
      "metadata": {
        "colab_type": "text",
        "id": "ieRJ9gmUftB_"
      },
      "source": [
        "### Tokenization\n",
        "\n",
        "In the cells, below, I'm creating a couple **dictionaries** to convert the characters to and from integers. Encoding the characters as integers makes it easier to use as input in the network."
      ]
    },
    {
      "cell_type": "code",
      "execution_count": 0,
      "metadata": {
        "colab": {},
        "colab_type": "code",
        "id": "1Q0c21abftCD"
      },
      "outputs": [],
      "source": [
        "# encode the text and map each character to an integer and vice versa\n",
        "\n",
        "# we create two dictionaries:\n",
        "# 1. int2char, which maps integers to characters\n",
        "# 2. char2int, which maps characters to unique integers\n",
        "chars = tuple(set(text))\n",
        "int2char = dict(enumerate(chars))\n",
        "char2int = {ch: ii for ii, ch in int2char.items()}\n",
        "# encode the text\n",
        "encoded = np.array([char2int[ch] for ch in text])"
      ]
    },
    {
      "cell_type": "markdown",
      "metadata": {
        "colab_type": "text",
        "id": "B82WXZCkftCP"
      },
      "source": [
        "And we can see those same characters from above, encoded as integers."
      ]
    },
    {
      "cell_type": "code",
      "execution_count": 8,
      "metadata": {
        "colab": {
          "base_uri": "https://localhost:8080/",
          "height": 121
        },
        "colab_type": "code",
        "id": "PoU38-VhftCS",
        "outputId": "1e934952-8e7f-4ca4-f9e5-22febfde4a54"
      },
      "outputs": [
        {
          "data": {
            "text/plain": [
              "array([14, 46, 55, 36, 26, 27, 10, 72, 42, 52, 52, 52, 79, 55, 36, 36, 47,\n",
              "       72, 11, 55, 20,  9, 67,  9, 27, 56, 72, 55, 10, 27, 72, 55, 67, 67,\n",
              "       72, 55, 67,  9, 15, 27, 24, 72, 27, 66, 27, 10, 47, 72, 77, 53, 46,\n",
              "       55, 36, 36, 47, 72, 11, 55, 20,  9, 67, 47, 72,  9, 56, 72, 77, 53,\n",
              "       46, 55, 36, 36, 47, 72,  9, 53, 72,  9, 26, 56, 72, 71, 13, 53, 52,\n",
              "       13, 55, 47, 43, 52, 52, 73, 66, 27, 10, 47, 26, 46,  9, 53])"
            ]
          },
          "execution_count": 8,
          "metadata": {
            "tags": []
          },
          "output_type": "execute_result"
        }
      ],
      "source": [
        "encoded[:100]"
      ]
    },
    {
      "cell_type": "markdown",
      "metadata": {
        "colab_type": "text",
        "id": "-mo0WyxdftCs"
      },
      "source": [
        "## Pre-processing the data\n",
        "\n",
        "As you can see in our char-RNN image above, our LSTM expects an input that is **one-hot encoded** meaning that each character is converted into an integer (via our created dictionary) and *then* converted into a column vector where only it's corresponding integer index will have the value of 1 and the rest of the vector will be filled with 0's. Since we're one-hot encoding the data, let's make a function to do that!\n"
      ]
    },
    {
      "cell_type": "code",
      "execution_count": 0,
      "metadata": {
        "colab": {},
        "colab_type": "code",
        "id": "Rt4ycxZLftCv"
      },
      "outputs": [],
      "source": [
        "def one_hot_encode(arr, n_labels):\n",
        "    \n",
        "    # Initialize the the encoded array\n",
        "    one_hot = np.zeros((arr.size, n_labels), dtype=np.float32)\n",
        "    \n",
        "    # Fill the appropriate elements with ones\n",
        "    one_hot[np.arange(one_hot.shape[0]), arr.flatten()] = 1.\n",
        "    \n",
        "    # Finally reshape it to get back to the original array\n",
        "    one_hot = one_hot.reshape((*arr.shape, n_labels))\n",
        "    \n",
        "    return one_hot"
      ]
    },
    {
      "cell_type": "code",
      "execution_count": 10,
      "metadata": {
        "colab": {
          "base_uri": "https://localhost:8080/",
          "height": 86
        },
        "colab_type": "code",
        "id": "MRXwGAspftC8",
        "outputId": "e86053b7-1e2f-4efb-9e2a-64e42d2251f0"
      },
      "outputs": [
        {
          "name": "stdout",
          "output_type": "stream",
          "text": [
            "[[[0. 0. 0. 1. 0. 0. 0. 0.]\n",
            "  [0. 0. 0. 0. 0. 1. 0. 0.]\n",
            "  [0. 1. 0. 0. 0. 0. 0. 0.]\n",
            "  [0. 0. 1. 0. 0. 0. 0. 0.]]]\n"
          ]
        }
      ],
      "source": [
        "# check that the function works as expected\n",
        "test_seq = np.array([[3, 5, 1, 2]])\n",
        "one_hot = one_hot_encode(test_seq, 8)\n",
        "\n",
        "print(one_hot)"
      ]
    },
    {
      "cell_type": "code",
      "execution_count": 0,
      "metadata": {
        "colab": {},
        "colab_type": "code",
        "id": "VwZJ-nBxftDI"
      },
      "outputs": [],
      "source": [
        "def get_batches(arr, batch_size, seq_length):\n",
        "    '''Create a generator that returns batches of size\n",
        "       batch_size x seq_length from arr.\n",
        "       \n",
        "       Arguments\n",
        "       ---------\n",
        "       arr: Array you want to make batches from\n",
        "       batch_size: Batch size, the number of sequences per batch\n",
        "       seq_length: Number of encoded chars in a sequence\n",
        "    '''\n",
        "    batch_size_total = batch_size*seq_length\n",
        "    # Get the number of batches we can make\n",
        "    n_batches = len(arr)//(batch_size_total)\n",
        "    \n",
        "    # Keep only enough characters to make full batches\n",
        "    arr = arr[:batch_size_total*n_batches]\n",
        "    \n",
        "    #Reshape into batch_size rows\n",
        "    arr = arr.reshape(batch_size,-1)\n",
        "    \n",
        "    ## Iterate over the batches using a window of size seq_length\n",
        "    for n in range(0, arr.shape[1], seq_length):\n",
        "        # The features\n",
        "        x = arr[:,n:n+seq_length]\n",
        "        # The targets, shifted by one\n",
        "        y = np.zeros_like(x)\n",
        "        try:\n",
        "            y[:,:-1],y[:,-1] = x[:,1:], arr[:,n+seq_length]\n",
        "        except IndexError:\n",
        "            y[:,:-1],y[:,-1] = x[:,1:], arr[:,0]\n",
        "        yield x, y"
      ]
    },
    {
      "cell_type": "markdown",
      "metadata": {
        "colab_type": "text",
        "id": "pjHlDB2RftDV"
      },
      "source": [
        "### Test Your Implementation\n",
        "\n",
        "Now I'll make some data sets and we can check out what's going on as we batch data. Here, as an example, I'm going to use a batch size of 8 and 50 sequence steps."
      ]
    },
    {
      "cell_type": "code",
      "execution_count": 0,
      "metadata": {
        "colab": {},
        "colab_type": "code",
        "id": "yRoAA1G3ftDY"
      },
      "outputs": [],
      "source": [
        "batches = get_batches(encoded, 8, 50)\n",
        "x, y = next(batches)"
      ]
    },
    {
      "cell_type": "code",
      "execution_count": 13,
      "metadata": {
        "colab": {
          "base_uri": "https://localhost:8080/",
          "height": 347
        },
        "colab_type": "code",
        "id": "6FeMr3u0ftDi",
        "outputId": "aacee008-0acf-4b8b-fe1e-71d3c3dac9c2"
      },
      "outputs": [
        {
          "name": "stdout",
          "output_type": "stream",
          "text": [
            "x\n",
            " [[14 46 55 36 26 27 10 72 42 52]\n",
            " [56 71 53 72 26 46 55 26 72 55]\n",
            " [27 53 61 72 71 10 72 55 72 11]\n",
            " [56 72 26 46 27 72 16 46  9 27]\n",
            " [72 56 55 13 72 46 27 10 72 26]\n",
            " [16 77 56 56  9 71 53 72 55 53]\n",
            " [72 18 53 53 55 72 46 55 61 72]\n",
            " [80 17 67 71 53 56 15 47 43 72]]\n",
            "\n",
            "y\n",
            " [[46 55 36 26 27 10 72 42 52 52]\n",
            " [71 53 72 26 46 55 26 72 55 26]\n",
            " [53 61 72 71 10 72 55 72 11 71]\n",
            " [72 26 46 27 72 16 46  9 27 11]\n",
            " [56 55 13 72 46 27 10 72 26 27]\n",
            " [77 56 56  9 71 53 72 55 53 61]\n",
            " [18 53 53 55 72 46 55 61 72 56]\n",
            " [17 67 71 53 56 15 47 43 72 28]]\n"
          ]
        }
      ],
      "source": [
        "# printing out the first 10 items in a sequence\n",
        "print('x\\n', x[:10, :10])\n",
        "print('\\ny\\n', y[:10, :10])"
      ]
    },
    {
      "cell_type": "markdown",
      "metadata": {
        "colab_type": "text",
        "id": "vUtvkzmwftDu"
      },
      "source": [
        "If you implemented `get_batches` correctly, the above output should look something like \n",
        "```\n",
        "x\n",
        " [[25  8 60 11 45 27 28 73  1  2]\n",
        " [17  7 20 73 45  8 60 45 73 60]\n",
        " [27 20 80 73  7 28 73 60 73 65]\n",
        " [17 73 45  8 27 73 66  8 46 27]\n",
        " [73 17 60 12 73  8 27 28 73 45]\n",
        " [66 64 17 17 46  7 20 73 60 20]\n",
        " [73 76 20 20 60 73  8 60 80 73]\n",
        " [47 35 43  7 20 17 24 50 37 73]]\n",
        "\n",
        "y\n",
        " [[ 8 60 11 45 27 28 73  1  2  2]\n",
        " [ 7 20 73 45  8 60 45 73 60 45]\n",
        " [20 80 73  7 28 73 60 73 65  7]\n",
        " [73 45  8 27 73 66  8 46 27 65]\n",
        " [17 60 12 73  8 27 28 73 45 27]\n",
        " [64 17 17 46  7 20 73 60 20 80]\n",
        " [76 20 20 60 73  8 60 80 73 17]\n",
        " [35 43  7 20 17 24 50 37 73 36]]\n",
        " ```\n",
        " although the exact numbers may be different. Check to make sure the data is shifted over one step for `y`."
      ]
    },
    {
      "cell_type": "markdown",
      "metadata": {
        "colab_type": "text",
        "id": "Afg77jTsftDw"
      },
      "source": [
        "---\n",
        "## Defining the network with PyTorch\n",
        "\n",
        "Below is where you'll define the network.\n",
        "\n",
        "<img src=\"assets/charRNN.png\" width=500px>\n",
        "\n",
        "Next, you'll use PyTorch to define the architecture of the network. We start by defining the layers and operations we want. Then, define a method for the forward pass. You've also been given a method for predicting characters."
      ]
    },
    {
      "cell_type": "markdown",
      "metadata": {
        "colab_type": "text",
        "id": "6EjOwdgZftDz"
      },
      "source": [
        "### Model Structure\n",
        "\n",
        "In `__init__` the suggested structure is as follows:\n",
        "* Create and store the necessary dictionaries (this has been done for you)\n",
        "* Define an LSTM layer that takes as params: an input size (the number of characters), a hidden layer size `n_hidden`, a number of layers `n_layers`, a dropout probability `drop_prob`, and a batch_first boolean (True, since we are batching)\n",
        "* Define a dropout layer with `drop_prob`\n",
        "* Define a fully-connected layer with params: input size `n_hidden` and output size (the number of characters)\n",
        "* Finally, initialize the weights (again, this has been given)\n",
        "\n",
        "Note that some parameters have been named and given in the `__init__` function, and we use them and store them by doing something like `self.drop_prob = drop_prob`."
      ]
    },
    {
      "cell_type": "code",
      "execution_count": 14,
      "metadata": {
        "colab": {
          "base_uri": "https://localhost:8080/",
          "height": 34
        },
        "colab_type": "code",
        "id": "uA3uO9EAftD4",
        "outputId": "04c79536-5444-4699-e04a-1252a50e1fca"
      },
      "outputs": [
        {
          "name": "stdout",
          "output_type": "stream",
          "text": [
            "Training on GPU!\n"
          ]
        }
      ],
      "source": [
        "# check if GPU is available\n",
        "train_on_gpu = torch.cuda.is_available()\n",
        "if(train_on_gpu):\n",
        "    print('Training on GPU!')\n",
        "else: \n",
        "    print('No GPU available, training on CPU; consider making n_epochs very small.')"
      ]
    },
    {
      "cell_type": "code",
      "execution_count": 0,
      "metadata": {
        "colab": {},
        "colab_type": "code",
        "id": "SayCzvBgftED"
      },
      "outputs": [],
      "source": [
        "class CharRNN(nn.Module):\n",
        "    \n",
        "    def __init__(self, tokens, n_hidden=256, n_layers=2,\n",
        "                               drop_prob=0.5, lr=0.001):\n",
        "        super().__init__()\n",
        "        self.drop_prob = drop_prob\n",
        "        self.n_layers = n_layers\n",
        "        self.n_hidden = n_hidden\n",
        "        self.lr = lr\n",
        "        \n",
        "        # creating character dictionaries\n",
        "        self.chars = tokens\n",
        "        self.int2char = dict(enumerate(self.chars))\n",
        "        self.char2int = {ch: ii for ii, ch in self.int2char.items()}\n",
        "        \n",
        "        # defining the layers of the model\n",
        "        self.lstm = nn.LSTM(len(self.chars),n_hidden,n_layers,dropout=drop_prob,batch_first=True)\n",
        "        self.dropout = nn.Dropout(drop_prob)\n",
        "        self.fc = nn.Linear(n_hidden,len(self.chars))\n",
        "      \n",
        "    \n",
        "    def forward(self, x, hidden):\n",
        "        ''' Forward pass through the network. \n",
        "            These inputs are x, and the hidden/cell state `hidden`. '''\n",
        "                \n",
        "        ##Getting the outputs and the new hidden state from the lstm\n",
        "        r_output, hidden = self.lstm(x, hidden)\n",
        "        \n",
        "        ## passing through the dropout layer\n",
        "        out = self.dropout(r_output)\n",
        "        \n",
        "        # Stack up LSTM outputs using view\n",
        "        # you may need to use contiguous to reshape the output\n",
        "        out = out.contiguous().view(-1, self.n_hidden)\n",
        "        out = self.fc(out)\n",
        "        \n",
        "        # return the final output and the hidden state\n",
        "        return out, hidden\n",
        "    \n",
        "    \n",
        "    def init_hidden(self, batch_size):\n",
        "        ''' Initializes hidden state '''\n",
        "        # Create two new tensors with sizes n_layers x batch_size x n_hidden,\n",
        "        # initialized to zero, for hidden state and cell state of LSTM\n",
        "        weight = next(self.parameters()).data\n",
        "        \n",
        "        if (train_on_gpu):\n",
        "            hidden = (weight.new(self.n_layers, batch_size, self.n_hidden).zero_().cuda(),\n",
        "                  weight.new(self.n_layers, batch_size, self.n_hidden).zero_().cuda())\n",
        "        else:\n",
        "            hidden = (weight.new(self.n_layers, batch_size, self.n_hidden).zero_(),\n",
        "                      weight.new(self.n_layers, batch_size, self.n_hidden).zero_())\n",
        "        \n",
        "        return hidden\n",
        "        "
      ]
    },
    {
      "cell_type": "markdown",
      "metadata": {
        "colab_type": "text",
        "id": "8ZDYTen8ftEL"
      },
      "source": [
        "## Time to train\n",
        "\n",
        "A couple of details about training: \n",
        ">* Within the batch loop, we detach the hidden state from its history; this time setting it equal to a new *tuple* variable because an LSTM has a hidden state that is a tuple of the hidden and cell states.\n",
        "* We use [`clip_grad_norm_`](https://pytorch.org/docs/stable/_modules/torch/nn/utils/clip_grad.html) to help prevent exploding gradients."
      ]
    },
    {
      "cell_type": "code",
      "execution_count": 0,
      "metadata": {
        "colab": {},
        "colab_type": "code",
        "id": "5JUqTvVhftEP"
      },
      "outputs": [],
      "source": [
        "def train(net, data, epochs=10, batch_size=10, seq_length=50, lr=0.001, clip=5, val_frac=0.1, print_every=10):\n",
        "    ''' Training a network \n",
        "    \n",
        "        Arguments\n",
        "        ---------\n",
        "        \n",
        "        net: CharRNN network\n",
        "        data: text data to train the network\n",
        "        epochs: Number of epochs to train\n",
        "        batch_size: Number of mini-sequences per mini-batch, aka batch size\n",
        "        seq_length: Number of character steps per mini-batch\n",
        "        lr: learning rate\n",
        "        clip: gradient clipping\n",
        "        val_frac: Fraction of data to hold out for validation\n",
        "        print_every: Number of steps for printing training and validation loss\n",
        "    \n",
        "    '''\n",
        "    net.train()\n",
        "    \n",
        "    opt = torch.optim.Adam(net.parameters(), lr=lr)\n",
        "    criterion = nn.CrossEntropyLoss()\n",
        "    \n",
        "    # create training and validation data\n",
        "    val_idx = int(len(data)*(1-val_frac))\n",
        "    data, val_data = data[:val_idx], data[val_idx:]\n",
        "    \n",
        "    if(train_on_gpu):\n",
        "        net.cuda()\n",
        "    \n",
        "    counter = 0\n",
        "    n_chars = len(net.chars)\n",
        "    for e in range(epochs):\n",
        "        # initialize hidden state\n",
        "        h = net.init_hidden(batch_size)\n",
        "        \n",
        "        for x, y in get_batches(data, batch_size, seq_length):\n",
        "            counter += 1\n",
        "            \n",
        "            # One-hot encode our data and make them Torch tensors\n",
        "            x = one_hot_encode(x, n_chars)\n",
        "            inputs, targets = torch.from_numpy(x), torch.from_numpy(y)\n",
        "            \n",
        "            if(train_on_gpu):\n",
        "                inputs, targets = inputs.cuda(), targets.cuda()\n",
        "\n",
        "            # Creating new variables for the hidden state, otherwise\n",
        "            # we'd backprop through the entire training history\n",
        "            h = tuple([each.data for each in h])\n",
        "\n",
        "            # zero accumulated gradients\n",
        "            net.zero_grad()\n",
        "            \n",
        "            # get the output from the model\n",
        "            output, h = net(inputs, h)\n",
        "            \n",
        "            # calculate the loss and perform backprop\n",
        "            loss = criterion(output, targets.view(batch_size*seq_length).long())\n",
        "            loss.backward()\n",
        "            # `clip_grad_norm` helps prevent the exploding gradient problem in RNNs / LSTMs.\n",
        "            nn.utils.clip_grad_norm_(net.parameters(), clip)\n",
        "            opt.step()\n",
        "            \n",
        "            # loss stats\n",
        "            if counter % print_every == 0:\n",
        "                # Get validation loss\n",
        "                val_h = net.init_hidden(batch_size)\n",
        "                val_losses = []\n",
        "                net.eval()\n",
        "                for x, y in get_batches(val_data, batch_size, seq_length):\n",
        "                    # One-hot encode our data and make them Torch tensors\n",
        "                    x = one_hot_encode(x, n_chars)\n",
        "                    x, y = torch.from_numpy(x), torch.from_numpy(y)\n",
        "                    \n",
        "                    # Creating new variables for the hidden state, otherwise\n",
        "                    # we'd backprop through the entire training history\n",
        "                    val_h = tuple([each.data for each in val_h])\n",
        "                    \n",
        "                    inputs, targets = x, y\n",
        "                    if(train_on_gpu):\n",
        "                        inputs, targets = inputs.cuda(), targets.cuda()\n",
        "\n",
        "                    output, val_h = net(inputs, val_h)\n",
        "                    val_loss = criterion(output, targets.view(batch_size*seq_length).long())\n",
        "                \n",
        "                    val_losses.append(val_loss.item())\n",
        "                \n",
        "                net.train() # reset to train mode after iterationg through validation data\n",
        "                \n",
        "                print(\"Epoch: {}/{}...\".format(e+1, epochs),\n",
        "                      \"Step: {}...\".format(counter),\n",
        "                      \"Loss: {:.4f}...\".format(loss.item()),\n",
        "                      \"Val Loss: {:.4f}\".format(np.mean(val_losses)))"
      ]
    },
    {
      "cell_type": "markdown",
      "metadata": {
        "colab_type": "text",
        "id": "dsTIl_6pftEW"
      },
      "source": [
        "## Instantiating the model\n",
        "\n",
        "Now we can actually train the network. First we'll create the network itself, with some given hyperparameters. Then, define the mini-batches sizes, and start training!"
      ]
    },
    {
      "cell_type": "code",
      "execution_count": 17,
      "metadata": {
        "colab": {
          "base_uri": "https://localhost:8080/",
          "height": 104
        },
        "colab_type": "code",
        "id": "Qw3gKYkXftEX",
        "outputId": "8f9be43c-2207-4fd8-d9e2-450ebd7575d6"
      },
      "outputs": [
        {
          "name": "stdout",
          "output_type": "stream",
          "text": [
            "CharRNN(\n",
            "  (lstm): LSTM(83, 512, num_layers=2, batch_first=True, dropout=0.5)\n",
            "  (dropout): Dropout(p=0.5, inplace=False)\n",
            "  (fc): Linear(in_features=512, out_features=83, bias=True)\n",
            ")\n"
          ]
        }
      ],
      "source": [
        "## TODO: set your model hyperparameters\n",
        "# define and print the net\n",
        "n_hidden= 512\n",
        "n_layers= 2\n",
        "\n",
        "net = CharRNN(chars, n_hidden, n_layers)\n",
        "print(net)"
      ]
    },
    {
      "cell_type": "markdown",
      "metadata": {
        "colab_type": "text",
        "id": "nF_H1AkmftEi"
      },
      "source": [
        "### Set your training hyperparameters!"
      ]
    },
    {
      "cell_type": "code",
      "execution_count": 18,
      "metadata": {
        "colab": {
          "base_uri": "https://localhost:8080/",
          "height": 1000
        },
        "colab_type": "code",
        "id": "52h_JyYTftEj",
        "outputId": "ac5b7b2e-9de5-4be2-f765-8a91608693ae",
        "scrolled": true
      },
      "outputs": [
        {
          "name": "stdout",
          "output_type": "stream",
          "text": [
            "Epoch: 1/20... Step: 10... Loss: 3.2525... Val Loss: 3.1821\n",
            "Epoch: 1/20... Step: 20... Loss: 3.1481... Val Loss: 3.1325\n",
            "Epoch: 1/20... Step: 30... Loss: 3.1444... Val Loss: 3.1220\n",
            "Epoch: 1/20... Step: 40... Loss: 3.1140... Val Loss: 3.1201\n",
            "Epoch: 1/20... Step: 50... Loss: 3.1418... Val Loss: 3.1163\n",
            "Epoch: 1/20... Step: 60... Loss: 3.1157... Val Loss: 3.1135\n",
            "Epoch: 1/20... Step: 70... Loss: 3.1049... Val Loss: 3.1083\n",
            "Epoch: 1/20... Step: 80... Loss: 3.1083... Val Loss: 3.0964\n",
            "Epoch: 1/20... Step: 90... Loss: 3.1004... Val Loss: 3.0803\n",
            "Epoch: 1/20... Step: 100... Loss: 3.0379... Val Loss: 3.0168\n",
            "Epoch: 1/20... Step: 110... Loss: 2.9330... Val Loss: 2.9186\n",
            "Epoch: 1/20... Step: 120... Loss: 2.8419... Val Loss: 2.8021\n",
            "Epoch: 1/20... Step: 130... Loss: 2.7152... Val Loss: 2.6695\n",
            "Epoch: 2/20... Step: 140... Loss: 2.6286... Val Loss: 2.5710\n",
            "Epoch: 2/20... Step: 150... Loss: 2.5559... Val Loss: 2.5091\n",
            "Epoch: 2/20... Step: 160... Loss: 2.5006... Val Loss: 2.4617\n",
            "Epoch: 2/20... Step: 170... Loss: 2.4404... Val Loss: 2.4208\n",
            "Epoch: 2/20... Step: 180... Loss: 2.4460... Val Loss: 2.4442\n",
            "Epoch: 2/20... Step: 190... Loss: 2.3771... Val Loss: 2.3771\n",
            "Epoch: 2/20... Step: 200... Loss: 2.3616... Val Loss: 2.3792\n",
            "Epoch: 2/20... Step: 210... Loss: 2.3345... Val Loss: 2.3504\n",
            "Epoch: 2/20... Step: 220... Loss: 2.2988... Val Loss: 2.3202\n",
            "Epoch: 2/20... Step: 230... Loss: 2.2840... Val Loss: 2.2517\n",
            "Epoch: 2/20... Step: 240... Loss: 2.2638... Val Loss: 2.2286\n",
            "Epoch: 2/20... Step: 250... Loss: 2.2005... Val Loss: 2.2029\n",
            "Epoch: 2/20... Step: 260... Loss: 2.1716... Val Loss: 2.1760\n",
            "Epoch: 2/20... Step: 270... Loss: 2.1797... Val Loss: 2.1552\n",
            "Epoch: 3/20... Step: 280... Loss: 2.1718... Val Loss: 2.1279\n",
            "Epoch: 3/20... Step: 290... Loss: 2.1360... Val Loss: 2.1030\n",
            "Epoch: 3/20... Step: 300... Loss: 2.1144... Val Loss: 2.0843\n",
            "Epoch: 3/20... Step: 310... Loss: 2.0840... Val Loss: 2.0641\n",
            "Epoch: 3/20... Step: 320... Loss: 2.0473... Val Loss: 2.0461\n",
            "Epoch: 3/20... Step: 330... Loss: 2.0311... Val Loss: 2.0351\n",
            "Epoch: 3/20... Step: 340... Loss: 2.0478... Val Loss: 2.0099\n",
            "Epoch: 3/20... Step: 350... Loss: 2.0250... Val Loss: 1.9891\n",
            "Epoch: 3/20... Step: 360... Loss: 1.9576... Val Loss: 1.9716\n",
            "Epoch: 3/20... Step: 370... Loss: 1.9867... Val Loss: 1.9558\n",
            "Epoch: 3/20... Step: 380... Loss: 1.9663... Val Loss: 1.9397\n",
            "Epoch: 3/20... Step: 390... Loss: 1.9360... Val Loss: 1.9239\n",
            "Epoch: 3/20... Step: 400... Loss: 1.9140... Val Loss: 1.9119\n",
            "Epoch: 3/20... Step: 410... Loss: 1.9257... Val Loss: 1.8972\n",
            "Epoch: 4/20... Step: 420... Loss: 1.9106... Val Loss: 1.8824\n",
            "Epoch: 4/20... Step: 430... Loss: 1.8929... Val Loss: 1.8656\n",
            "Epoch: 4/20... Step: 440... Loss: 1.8783... Val Loss: 1.8569\n",
            "Epoch: 4/20... Step: 450... Loss: 1.8266... Val Loss: 1.8384\n",
            "Epoch: 4/20... Step: 460... Loss: 1.8121... Val Loss: 1.8321\n",
            "Epoch: 4/20... Step: 470... Loss: 1.8472... Val Loss: 1.8221\n",
            "Epoch: 4/20... Step: 480... Loss: 1.8307... Val Loss: 1.8065\n",
            "Epoch: 4/20... Step: 490... Loss: 1.8297... Val Loss: 1.7990\n",
            "Epoch: 4/20... Step: 500... Loss: 1.8320... Val Loss: 1.7890\n",
            "Epoch: 4/20... Step: 510... Loss: 1.7963... Val Loss: 1.7804\n",
            "Epoch: 4/20... Step: 520... Loss: 1.8143... Val Loss: 1.7733\n",
            "Epoch: 4/20... Step: 530... Loss: 1.7741... Val Loss: 1.7579\n",
            "Epoch: 4/20... Step: 540... Loss: 1.7399... Val Loss: 1.7479\n",
            "Epoch: 4/20... Step: 550... Loss: 1.7812... Val Loss: 1.7407\n",
            "Epoch: 5/20... Step: 560... Loss: 1.7528... Val Loss: 1.7312\n",
            "Epoch: 5/20... Step: 570... Loss: 1.7412... Val Loss: 1.7258\n",
            "Epoch: 5/20... Step: 580... Loss: 1.7088... Val Loss: 1.7136\n",
            "Epoch: 5/20... Step: 590... Loss: 1.7097... Val Loss: 1.7037\n",
            "Epoch: 5/20... Step: 600... Loss: 1.7060... Val Loss: 1.6953\n",
            "Epoch: 5/20... Step: 610... Loss: 1.6825... Val Loss: 1.6891\n",
            "Epoch: 5/20... Step: 620... Loss: 1.6917... Val Loss: 1.6812\n",
            "Epoch: 5/20... Step: 630... Loss: 1.7101... Val Loss: 1.6742\n",
            "Epoch: 5/20... Step: 640... Loss: 1.6804... Val Loss: 1.6657\n",
            "Epoch: 5/20... Step: 650... Loss: 1.6589... Val Loss: 1.6592\n",
            "Epoch: 5/20... Step: 660... Loss: 1.6456... Val Loss: 1.6554\n",
            "Epoch: 5/20... Step: 670... Loss: 1.6732... Val Loss: 1.6493\n",
            "Epoch: 5/20... Step: 680... Loss: 1.6669... Val Loss: 1.6401\n",
            "Epoch: 5/20... Step: 690... Loss: 1.6430... Val Loss: 1.6337\n",
            "Epoch: 6/20... Step: 700... Loss: 1.6457... Val Loss: 1.6252\n",
            "Epoch: 6/20... Step: 710... Loss: 1.6342... Val Loss: 1.6251\n",
            "Epoch: 6/20... Step: 720... Loss: 1.6150... Val Loss: 1.6129\n",
            "Epoch: 6/20... Step: 730... Loss: 1.6374... Val Loss: 1.6110\n",
            "Epoch: 6/20... Step: 740... Loss: 1.6003... Val Loss: 1.6057\n",
            "Epoch: 6/20... Step: 750... Loss: 1.5835... Val Loss: 1.5982\n",
            "Epoch: 6/20... Step: 760... Loss: 1.6220... Val Loss: 1.5948\n",
            "Epoch: 6/20... Step: 770... Loss: 1.5952... Val Loss: 1.5937\n",
            "Epoch: 6/20... Step: 780... Loss: 1.5850... Val Loss: 1.5812\n",
            "Epoch: 6/20... Step: 790... Loss: 1.5703... Val Loss: 1.5811\n",
            "Epoch: 6/20... Step: 800... Loss: 1.5930... Val Loss: 1.5752\n",
            "Epoch: 6/20... Step: 810... Loss: 1.5737... Val Loss: 1.5729\n",
            "Epoch: 6/20... Step: 820... Loss: 1.5376... Val Loss: 1.5704\n",
            "Epoch: 6/20... Step: 830... Loss: 1.5795... Val Loss: 1.5636\n",
            "Epoch: 7/20... Step: 840... Loss: 1.5389... Val Loss: 1.5588\n",
            "Epoch: 7/20... Step: 850... Loss: 1.5627... Val Loss: 1.5547\n",
            "Epoch: 7/20... Step: 860... Loss: 1.5360... Val Loss: 1.5507\n",
            "Epoch: 7/20... Step: 870... Loss: 1.5600... Val Loss: 1.5482\n",
            "Epoch: 7/20... Step: 880... Loss: 1.5456... Val Loss: 1.5452\n",
            "Epoch: 7/20... Step: 890... Loss: 1.5479... Val Loss: 1.5378\n",
            "Epoch: 7/20... Step: 900... Loss: 1.5361... Val Loss: 1.5396\n",
            "Epoch: 7/20... Step: 910... Loss: 1.5072... Val Loss: 1.5329\n",
            "Epoch: 7/20... Step: 920... Loss: 1.5184... Val Loss: 1.5288\n",
            "Epoch: 7/20... Step: 930... Loss: 1.5146... Val Loss: 1.5247\n",
            "Epoch: 7/20... Step: 940... Loss: 1.5033... Val Loss: 1.5230\n",
            "Epoch: 7/20... Step: 950... Loss: 1.5290... Val Loss: 1.5147\n",
            "Epoch: 7/20... Step: 960... Loss: 1.5203... Val Loss: 1.5151\n",
            "Epoch: 7/20... Step: 970... Loss: 1.5239... Val Loss: 1.5116\n",
            "Epoch: 8/20... Step: 980... Loss: 1.5033... Val Loss: 1.5139\n",
            "Epoch: 8/20... Step: 990... Loss: 1.5084... Val Loss: 1.5076\n",
            "Epoch: 8/20... Step: 1000... Loss: 1.5004... Val Loss: 1.5049\n",
            "Epoch: 8/20... Step: 1010... Loss: 1.5286... Val Loss: 1.5000\n",
            "Epoch: 8/20... Step: 1020... Loss: 1.5036... Val Loss: 1.4916\n",
            "Epoch: 8/20... Step: 1030... Loss: 1.4871... Val Loss: 1.4906\n",
            "Epoch: 8/20... Step: 1040... Loss: 1.4892... Val Loss: 1.4905\n",
            "Epoch: 8/20... Step: 1050... Loss: 1.4664... Val Loss: 1.4857\n",
            "Epoch: 8/20... Step: 1060... Loss: 1.4793... Val Loss: 1.4788\n",
            "Epoch: 8/20... Step: 1070... Loss: 1.4789... Val Loss: 1.4789\n",
            "Epoch: 8/20... Step: 1080... Loss: 1.4672... Val Loss: 1.4754\n",
            "Epoch: 8/20... Step: 1090... Loss: 1.4681... Val Loss: 1.4734\n",
            "Epoch: 8/20... Step: 1100... Loss: 1.4523... Val Loss: 1.4690\n",
            "Epoch: 8/20... Step: 1110... Loss: 1.4638... Val Loss: 1.4693\n",
            "Epoch: 9/20... Step: 1120... Loss: 1.4717... Val Loss: 1.4686\n",
            "Epoch: 9/20... Step: 1130... Loss: 1.4699... Val Loss: 1.4670\n",
            "Epoch: 9/20... Step: 1140... Loss: 1.4670... Val Loss: 1.4585\n",
            "Epoch: 9/20... Step: 1150... Loss: 1.4831... Val Loss: 1.4595\n",
            "Epoch: 9/20... Step: 1160... Loss: 1.4281... Val Loss: 1.4543\n",
            "Epoch: 9/20... Step: 1170... Loss: 1.4475... Val Loss: 1.4525\n",
            "Epoch: 9/20... Step: 1180... Loss: 1.4448... Val Loss: 1.4556\n",
            "Epoch: 9/20... Step: 1190... Loss: 1.4714... Val Loss: 1.4477\n",
            "Epoch: 9/20... Step: 1200... Loss: 1.4202... Val Loss: 1.4439\n",
            "Epoch: 9/20... Step: 1210... Loss: 1.4251... Val Loss: 1.4437\n",
            "Epoch: 9/20... Step: 1220... Loss: 1.4313... Val Loss: 1.4396\n",
            "Epoch: 9/20... Step: 1230... Loss: 1.4076... Val Loss: 1.4393\n",
            "Epoch: 9/20... Step: 1240... Loss: 1.4168... Val Loss: 1.4339\n",
            "Epoch: 9/20... Step: 1250... Loss: 1.4167... Val Loss: 1.4317\n",
            "Epoch: 10/20... Step: 1260... Loss: 1.4404... Val Loss: 1.4324\n",
            "Epoch: 10/20... Step: 1270... Loss: 1.4134... Val Loss: 1.4299\n",
            "Epoch: 10/20... Step: 1280... Loss: 1.4358... Val Loss: 1.4256\n",
            "Epoch: 10/20... Step: 1290... Loss: 1.4194... Val Loss: 1.4254\n",
            "Epoch: 10/20... Step: 1300... Loss: 1.4198... Val Loss: 1.4205\n",
            "Epoch: 10/20... Step: 1310... Loss: 1.4160... Val Loss: 1.4140\n",
            "Epoch: 10/20... Step: 1320... Loss: 1.3862... Val Loss: 1.4170\n",
            "Epoch: 10/20... Step: 1330... Loss: 1.3906... Val Loss: 1.4140\n",
            "Epoch: 10/20... Step: 1340... Loss: 1.3819... Val Loss: 1.4094\n",
            "Epoch: 10/20... Step: 1350... Loss: 1.3633... Val Loss: 1.4025\n",
            "Epoch: 10/20... Step: 1360... Loss: 1.3737... Val Loss: 1.4039\n",
            "Epoch: 10/20... Step: 1370... Loss: 1.3643... Val Loss: 1.3974\n",
            "Epoch: 10/20... Step: 1380... Loss: 1.4067... Val Loss: 1.3986\n",
            "Epoch: 10/20... Step: 1390... Loss: 1.4088... Val Loss: 1.3947\n",
            "Epoch: 11/20... Step: 1400... Loss: 1.4226... Val Loss: 1.3918\n",
            "Epoch: 11/20... Step: 1410... Loss: 1.4252... Val Loss: 1.3903\n",
            "Epoch: 11/20... Step: 1420... Loss: 1.4094... Val Loss: 1.3912\n",
            "Epoch: 11/20... Step: 1430... Loss: 1.3691... Val Loss: 1.3937\n",
            "Epoch: 11/20... Step: 1440... Loss: 1.4090... Val Loss: 1.3845\n",
            "Epoch: 11/20... Step: 1450... Loss: 1.3270... Val Loss: 1.3824\n",
            "Epoch: 11/20... Step: 1460... Loss: 1.3486... Val Loss: 1.3821\n",
            "Epoch: 11/20... Step: 1470... Loss: 1.3489... Val Loss: 1.3824\n",
            "Epoch: 11/20... Step: 1480... Loss: 1.3704... Val Loss: 1.3764\n",
            "Epoch: 11/20... Step: 1490... Loss: 1.3628... Val Loss: 1.3760\n",
            "Epoch: 11/20... Step: 1500... Loss: 1.3463... Val Loss: 1.3818\n",
            "Epoch: 11/20... Step: 1510... Loss: 1.3255... Val Loss: 1.3777\n",
            "Epoch: 11/20... Step: 1520... Loss: 1.3662... Val Loss: 1.3778\n",
            "Epoch: 12/20... Step: 1530... Loss: 1.4404... Val Loss: 1.3715\n",
            "Epoch: 12/20... Step: 1540... Loss: 1.3768... Val Loss: 1.3679\n",
            "Epoch: 12/20... Step: 1550... Loss: 1.3749... Val Loss: 1.3639\n",
            "Epoch: 12/20... Step: 1560... Loss: 1.3883... Val Loss: 1.3639\n",
            "Epoch: 12/20... Step: 1570... Loss: 1.3329... Val Loss: 1.3700\n",
            "Epoch: 12/20... Step: 1580... Loss: 1.3076... Val Loss: 1.3632\n",
            "Epoch: 12/20... Step: 1590... Loss: 1.3155... Val Loss: 1.3591\n",
            "Epoch: 12/20... Step: 1600... Loss: 1.3445... Val Loss: 1.3615\n",
            "Epoch: 12/20... Step: 1610... Loss: 1.3261... Val Loss: 1.3620\n",
            "Epoch: 12/20... Step: 1620... Loss: 1.3244... Val Loss: 1.3541\n",
            "Epoch: 12/20... Step: 1630... Loss: 1.3480... Val Loss: 1.3538\n",
            "Epoch: 12/20... Step: 1640... Loss: 1.3180... Val Loss: 1.3596\n",
            "Epoch: 12/20... Step: 1650... Loss: 1.3042... Val Loss: 1.3531\n",
            "Epoch: 12/20... Step: 1660... Loss: 1.3568... Val Loss: 1.3538\n",
            "Epoch: 13/20... Step: 1670... Loss: 1.3297... Val Loss: 1.3528\n",
            "Epoch: 13/20... Step: 1680... Loss: 1.3351... Val Loss: 1.3467\n",
            "Epoch: 13/20... Step: 1690... Loss: 1.3103... Val Loss: 1.3460\n",
            "Epoch: 13/20... Step: 1700... Loss: 1.3177... Val Loss: 1.3491\n",
            "Epoch: 13/20... Step: 1710... Loss: 1.2927... Val Loss: 1.3473\n",
            "Epoch: 13/20... Step: 1720... Loss: 1.3085... Val Loss: 1.3434\n",
            "Epoch: 13/20... Step: 1730... Loss: 1.3367... Val Loss: 1.3414\n",
            "Epoch: 13/20... Step: 1740... Loss: 1.3139... Val Loss: 1.3455\n",
            "Epoch: 13/20... Step: 1750... Loss: 1.2695... Val Loss: 1.3441\n",
            "Epoch: 13/20... Step: 1760... Loss: 1.2974... Val Loss: 1.3415\n",
            "Epoch: 13/20... Step: 1770... Loss: 1.3187... Val Loss: 1.3384\n",
            "Epoch: 13/20... Step: 1780... Loss: 1.3048... Val Loss: 1.3412\n",
            "Epoch: 13/20... Step: 1790... Loss: 1.2837... Val Loss: 1.3359\n",
            "Epoch: 13/20... Step: 1800... Loss: 1.3174... Val Loss: 1.3363\n",
            "Epoch: 14/20... Step: 1810... Loss: 1.3127... Val Loss: 1.3385\n",
            "Epoch: 14/20... Step: 1820... Loss: 1.2972... Val Loss: 1.3289\n",
            "Epoch: 14/20... Step: 1830... Loss: 1.3171... Val Loss: 1.3291\n",
            "Epoch: 14/20... Step: 1840... Loss: 1.2693... Val Loss: 1.3345\n",
            "Epoch: 14/20... Step: 1850... Loss: 1.2553... Val Loss: 1.3294\n",
            "Epoch: 14/20... Step: 1860... Loss: 1.2976... Val Loss: 1.3246\n",
            "Epoch: 14/20... Step: 1870... Loss: 1.3141... Val Loss: 1.3274\n",
            "Epoch: 14/20... Step: 1880... Loss: 1.3057... Val Loss: 1.3313\n",
            "Epoch: 14/20... Step: 1890... Loss: 1.3201... Val Loss: 1.3310\n",
            "Epoch: 14/20... Step: 1900... Loss: 1.3004... Val Loss: 1.3293\n",
            "Epoch: 14/20... Step: 1910... Loss: 1.2940... Val Loss: 1.3259\n",
            "Epoch: 14/20... Step: 1920... Loss: 1.2851... Val Loss: 1.3263\n",
            "Epoch: 14/20... Step: 1930... Loss: 1.2575... Val Loss: 1.3231\n",
            "Epoch: 14/20... Step: 1940... Loss: 1.3086... Val Loss: 1.3231\n",
            "Epoch: 15/20... Step: 1950... Loss: 1.2882... Val Loss: 1.3351\n",
            "Epoch: 15/20... Step: 1960... Loss: 1.2878... Val Loss: 1.3193\n",
            "Epoch: 15/20... Step: 1970... Loss: 1.2757... Val Loss: 1.3179\n",
            "Epoch: 15/20... Step: 1980... Loss: 1.2749... Val Loss: 1.3271\n",
            "Epoch: 15/20... Step: 1990... Loss: 1.2720... Val Loss: 1.3224\n",
            "Epoch: 15/20... Step: 2000... Loss: 1.2677... Val Loss: 1.3178\n",
            "Epoch: 15/20... Step: 2010... Loss: 1.2762... Val Loss: 1.3148\n",
            "Epoch: 15/20... Step: 2020... Loss: 1.2921... Val Loss: 1.3196\n",
            "Epoch: 15/20... Step: 2030... Loss: 1.2619... Val Loss: 1.3157\n",
            "Epoch: 15/20... Step: 2040... Loss: 1.2725... Val Loss: 1.3151\n",
            "Epoch: 15/20... Step: 2050... Loss: 1.2649... Val Loss: 1.3165\n",
            "Epoch: 15/20... Step: 2060... Loss: 1.2708... Val Loss: 1.3151\n",
            "Epoch: 15/20... Step: 2070... Loss: 1.2788... Val Loss: 1.3096\n",
            "Epoch: 15/20... Step: 2080... Loss: 1.2690... Val Loss: 1.3131\n",
            "Epoch: 16/20... Step: 2090... Loss: 1.2833... Val Loss: 1.3210\n",
            "Epoch: 16/20... Step: 2100... Loss: 1.2625... Val Loss: 1.3084\n",
            "Epoch: 16/20... Step: 2110... Loss: 1.2582... Val Loss: 1.3103\n",
            "Epoch: 16/20... Step: 2120... Loss: 1.2811... Val Loss: 1.3107\n",
            "Epoch: 16/20... Step: 2130... Loss: 1.2485... Val Loss: 1.3065\n",
            "Epoch: 16/20... Step: 2140... Loss: 1.2551... Val Loss: 1.3028\n",
            "Epoch: 16/20... Step: 2150... Loss: 1.2750... Val Loss: 1.3029\n",
            "Epoch: 16/20... Step: 2160... Loss: 1.2526... Val Loss: 1.3085\n",
            "Epoch: 16/20... Step: 2170... Loss: 1.2419... Val Loss: 1.3034\n",
            "Epoch: 16/20... Step: 2180... Loss: 1.2468... Val Loss: 1.3026\n",
            "Epoch: 16/20... Step: 2190... Loss: 1.2704... Val Loss: 1.3019\n",
            "Epoch: 16/20... Step: 2200... Loss: 1.2441... Val Loss: 1.3050\n",
            "Epoch: 16/20... Step: 2210... Loss: 1.2161... Val Loss: 1.2994\n",
            "Epoch: 16/20... Step: 2220... Loss: 1.2658... Val Loss: 1.3021\n",
            "Epoch: 17/20... Step: 2230... Loss: 1.2420... Val Loss: 1.3035\n",
            "Epoch: 17/20... Step: 2240... Loss: 1.2476... Val Loss: 1.3022\n",
            "Epoch: 17/20... Step: 2250... Loss: 1.2308... Val Loss: 1.2984\n",
            "Epoch: 17/20... Step: 2260... Loss: 1.2411... Val Loss: 1.3014\n",
            "Epoch: 17/20... Step: 2270... Loss: 1.2451... Val Loss: 1.2963\n",
            "Epoch: 17/20... Step: 2280... Loss: 1.2501... Val Loss: 1.2973\n",
            "Epoch: 17/20... Step: 2290... Loss: 1.2541... Val Loss: 1.2929\n",
            "Epoch: 17/20... Step: 2300... Loss: 1.2112... Val Loss: 1.2984\n",
            "Epoch: 17/20... Step: 2310... Loss: 1.2369... Val Loss: 1.2966\n",
            "Epoch: 17/20... Step: 2320... Loss: 1.2301... Val Loss: 1.2966\n",
            "Epoch: 17/20... Step: 2330... Loss: 1.2241... Val Loss: 1.2955\n",
            "Epoch: 17/20... Step: 2340... Loss: 1.2449... Val Loss: 1.2923\n",
            "Epoch: 17/20... Step: 2350... Loss: 1.2573... Val Loss: 1.2913\n",
            "Epoch: 17/20... Step: 2360... Loss: 1.2523... Val Loss: 1.2947\n",
            "Epoch: 18/20... Step: 2370... Loss: 1.2348... Val Loss: 1.2962\n",
            "Epoch: 18/20... Step: 2380... Loss: 1.2455... Val Loss: 1.2928\n",
            "Epoch: 18/20... Step: 2390... Loss: 1.2290... Val Loss: 1.2913\n",
            "Epoch: 18/20... Step: 2400... Loss: 1.2618... Val Loss: 1.2913\n",
            "Epoch: 18/20... Step: 2410... Loss: 1.2590... Val Loss: 1.2892\n",
            "Epoch: 18/20... Step: 2420... Loss: 1.2285... Val Loss: 1.2870\n",
            "Epoch: 18/20... Step: 2430... Loss: 1.2332... Val Loss: 1.2861\n",
            "Epoch: 18/20... Step: 2440... Loss: 1.2245... Val Loss: 1.2887\n",
            "Epoch: 18/20... Step: 2450... Loss: 1.2107... Val Loss: 1.2873\n",
            "Epoch: 18/20... Step: 2460... Loss: 1.2319... Val Loss: 1.2872\n",
            "Epoch: 18/20... Step: 2470... Loss: 1.2232... Val Loss: 1.2910\n",
            "Epoch: 18/20... Step: 2480... Loss: 1.2239... Val Loss: 1.2883\n",
            "Epoch: 18/20... Step: 2490... Loss: 1.2072... Val Loss: 1.2821\n",
            "Epoch: 18/20... Step: 2500... Loss: 1.2161... Val Loss: 1.2874\n",
            "Epoch: 19/20... Step: 2510... Loss: 1.2222... Val Loss: 1.2845\n",
            "Epoch: 19/20... Step: 2520... Loss: 1.2296... Val Loss: 1.2811\n",
            "Epoch: 19/20... Step: 2530... Loss: 1.2318... Val Loss: 1.2814\n",
            "Epoch: 19/20... Step: 2540... Loss: 1.2509... Val Loss: 1.2850\n",
            "Epoch: 19/20... Step: 2550... Loss: 1.2175... Val Loss: 1.2810\n",
            "Epoch: 19/20... Step: 2560... Loss: 1.2196... Val Loss: 1.2781\n",
            "Epoch: 19/20... Step: 2570... Loss: 1.2102... Val Loss: 1.2811\n",
            "Epoch: 19/20... Step: 2580... Loss: 1.2512... Val Loss: 1.2810\n",
            "Epoch: 19/20... Step: 2590... Loss: 1.2104... Val Loss: 1.2806\n",
            "Epoch: 19/20... Step: 2600... Loss: 1.2090... Val Loss: 1.2785\n",
            "Epoch: 19/20... Step: 2610... Loss: 1.2187... Val Loss: 1.2803\n",
            "Epoch: 19/20... Step: 2620... Loss: 1.2043... Val Loss: 1.2830\n",
            "Epoch: 19/20... Step: 2630... Loss: 1.2041... Val Loss: 1.2736\n",
            "Epoch: 19/20... Step: 2640... Loss: 1.2133... Val Loss: 1.2754\n",
            "Epoch: 20/20... Step: 2650... Loss: 1.2265... Val Loss: 1.2795\n",
            "Epoch: 20/20... Step: 2660... Loss: 1.2237... Val Loss: 1.2758\n",
            "Epoch: 20/20... Step: 2670... Loss: 1.2347... Val Loss: 1.2765\n",
            "Epoch: 20/20... Step: 2680... Loss: 1.2152... Val Loss: 1.2752\n",
            "Epoch: 20/20... Step: 2690... Loss: 1.2184... Val Loss: 1.2750\n",
            "Epoch: 20/20... Step: 2700... Loss: 1.2308... Val Loss: 1.2736\n",
            "Epoch: 20/20... Step: 2710... Loss: 1.1927... Val Loss: 1.2764\n",
            "Epoch: 20/20... Step: 2720... Loss: 1.1937... Val Loss: 1.2772\n",
            "Epoch: 20/20... Step: 2730... Loss: 1.1889... Val Loss: 1.2763\n",
            "Epoch: 20/20... Step: 2740... Loss: 1.1878... Val Loss: 1.2730\n",
            "Epoch: 20/20... Step: 2750... Loss: 1.1920... Val Loss: 1.2742\n",
            "Epoch: 20/20... Step: 2760... Loss: 1.1823... Val Loss: 1.2740\n",
            "Epoch: 20/20... Step: 2770... Loss: 1.2287... Val Loss: 1.2697\n",
            "Epoch: 20/20... Step: 2780... Loss: 1.2498... Val Loss: 1.2695\n"
          ]
        }
      ],
      "source": [
        "batch_size = 128\n",
        "seq_length = 100\n",
        "n_epochs =  20\n",
        "\n",
        "# train the model\n",
        "train(net, encoded, epochs=n_epochs, batch_size=batch_size, seq_length=seq_length, lr=0.001, print_every=10)"
      ]
    },
    {
      "cell_type": "markdown",
      "metadata": {
        "colab_type": "text",
        "id": "iHf5aqv_ftEr"
      },
      "source": [
        "## Getting the best model\n",
        "\n",
        "To set your hyperparameters to get the best performance, you'll want to watch the training and validation losses. If your training loss is much lower than the validation loss, you're overfitting. Increase regularization (more dropout) or use a smaller network. If the training and validation losses are close, you're underfitting so you can increase the size of the network."
      ]
    },
    {
      "cell_type": "markdown",
      "metadata": {
        "colab_type": "text",
        "id": "QzVuxPN6ftEx"
      },
      "source": [
        "## Checkpoint\n",
        "\n",
        "After training, we'll save the model so we can load it again later if we need too. Here I'm saving the parameters needed to create the same architecture, the hidden layer hyperparameters and the text characters."
      ]
    },
    {
      "cell_type": "code",
      "execution_count": 0,
      "metadata": {
        "colab": {},
        "colab_type": "code",
        "id": "TmSaZiLLftEz"
      },
      "outputs": [],
      "source": [
        "# change the name, for saving multiple files\n",
        "model_name = 'rnn_x_epoch.net'\n",
        "\n",
        "checkpoint = {'n_hidden': net.n_hidden,\n",
        "              'n_layers': net.n_layers,\n",
        "              'state_dict': net.state_dict(),\n",
        "              'tokens': net.chars}\n",
        "\n",
        "with open(model_name, 'wb') as f:\n",
        "    torch.save(checkpoint, f)"
      ]
    },
    {
      "cell_type": "code",
      "execution_count": 0,
      "metadata": {
        "colab": {},
        "colab_type": "code",
        "id": "K48IYdOVftE8"
      },
      "outputs": [],
      "source": [
        "def predict(net, char, h=None, top_k=None):\n",
        "        ''' Given a character, predict the next character.\n",
        "            Returns the predicted character and the hidden state.\n",
        "        '''\n",
        "        \n",
        "        # tensor inputs\n",
        "        x = np.array([[net.char2int[char]]])\n",
        "        x = one_hot_encode(x, len(net.chars))\n",
        "        inputs = torch.from_numpy(x)\n",
        "        \n",
        "        if(train_on_gpu):\n",
        "            inputs = inputs.cuda()\n",
        "        \n",
        "        # detach hidden state from history\n",
        "        h = tuple([each.data for each in h])\n",
        "        # get the output of the model\n",
        "        out, h = net(inputs, h)\n",
        "\n",
        "        # get the character probabilities\n",
        "        p = F.softmax(out, dim=1).data\n",
        "        if(train_on_gpu):\n",
        "            p = p.cpu() # move to cpu\n",
        "        \n",
        "        # get top characters\n",
        "        if top_k is None:\n",
        "            top_ch = np.arange(len(net.chars))\n",
        "        else:\n",
        "            p, top_ch = p.topk(top_k)\n",
        "            top_ch = top_ch.numpy().squeeze()\n",
        "        \n",
        "        # select the likely next character with some element of randomness\n",
        "        p = p.numpy().squeeze()\n",
        "        char = np.random.choice(top_ch, p=p/p.sum())\n",
        "        \n",
        "        # return the encoded value of the predicted char and the hidden state\n",
        "        return net.int2char[char], h"
      ]
    },
    {
      "cell_type": "markdown",
      "metadata": {
        "colab_type": "text",
        "id": "Sr_2RLyJftFF"
      },
      "source": [
        "### Priming and generating text \n",
        "\n",
        "Typically you'll want to prime the network so you can build up a hidden state. Otherwise the network will start out generating characters at random. In general the first bunch of characters will be a little rough since it hasn't built up a long history of characters to predict from."
      ]
    },
    {
      "cell_type": "code",
      "execution_count": 0,
      "metadata": {
        "colab": {},
        "colab_type": "code",
        "id": "RDX7CIAxftFH"
      },
      "outputs": [],
      "source": [
        "def sample(net, size, prime='The', top_k=None):\n",
        "        \n",
        "    if(train_on_gpu):\n",
        "        net.cuda()\n",
        "    else:\n",
        "        net.cpu()\n",
        "    \n",
        "    net.eval() # eval mode\n",
        "    \n",
        "    # First off, run through the prime characters\n",
        "    chars = [ch for ch in prime]\n",
        "    h = net.init_hidden(1)\n",
        "    for ch in prime:\n",
        "        char, h = predict(net, ch, h, top_k=top_k)\n",
        "\n",
        "    chars.append(char)\n",
        "    \n",
        "    # Now pass in the previous character and get a new one\n",
        "    for ii in range(size):\n",
        "        char, h = predict(net, chars[-1], h, top_k=top_k)\n",
        "        chars.append(char)\n",
        "\n",
        "    return ''.join(chars)"
      ]
    },
    {
      "cell_type": "code",
      "execution_count": 22,
      "metadata": {
        "colab": {
          "base_uri": "https://localhost:8080/",
          "height": 364
        },
        "colab_type": "code",
        "id": "LUUpg_6rftFM",
        "outputId": "e94a7893-814f-429c-c5a0-6678ed4f7a65"
      },
      "outputs": [
        {
          "name": "stdout",
          "output_type": "stream",
          "text": [
            "Anna, whom he would be\n",
            "colled at other stairs to his clear talking for him. The marshal\n",
            "of her, her sisters's, and would have throwged it a peasant, and\n",
            "alone that the most position had seemed to her. But his soul and\n",
            "hostisas dail his house, the difference that had been so like a part in a\n",
            "placteres when she would be in his soul. And he was day, and seemed\n",
            "to him, which he was not been some footman was but she had nothing and trying\n",
            "to talk out, that he had to go, so humiliated that she came, the\n",
            "mastate had begun to be asliep and too. And he had been seating them with\n",
            "her thought, and would, as this master sold to be an indifference to her\n",
            "to his companions.\n",
            "\n",
            "\"What do you know?\" she shouted. \"I'll come in to think,\" said Stepan\n",
            "Arkadyevitch, \"that they are done at a more state.\"\n",
            "\n",
            "\"Well, anyone there,\" said Levin, and standing with the familiar\n",
            "pasions with a little glist over, he walked to such a state of\n",
            "character. \"I'm not as at all share. I say,\" answered Anna.\n",
            "\n",
            "\"I won't come to see?\" \n"
          ]
        }
      ],
      "source": [
        "print(sample(net, 1000, prime='Anna', top_k=5))"
      ]
    },
    {
      "cell_type": "markdown",
      "metadata": {
        "colab_type": "text",
        "id": "vUxApH1PftFR"
      },
      "source": [
        "## Loading a checkpoint"
      ]
    },
    {
      "cell_type": "code",
      "execution_count": 23,
      "metadata": {
        "colab": {
          "base_uri": "https://localhost:8080/",
          "height": 34
        },
        "colab_type": "code",
        "id": "aMl_KEekftFR",
        "outputId": "d1426505-bd1c-4483-84d5-15afdcab040b"
      },
      "outputs": [
        {
          "data": {
            "text/plain": [
              "<All keys matched successfully>"
            ]
          },
          "execution_count": 23,
          "metadata": {
            "tags": []
          },
          "output_type": "execute_result"
        }
      ],
      "source": [
        "# Here we have loaded in a model that trained over 20 epochs `rnn_20_epoch.net`\n",
        "with open('rnn_x_epoch.net', 'rb') as f:\n",
        "    checkpoint = torch.load(f)\n",
        "    \n",
        "loaded = CharRNN(checkpoint['tokens'], n_hidden=checkpoint['n_hidden'], n_layers=checkpoint['n_layers'])\n",
        "loaded.load_state_dict(checkpoint['state_dict'])"
      ]
    },
    {
      "cell_type": "code",
      "execution_count": 32,
      "metadata": {
        "colab": {
          "base_uri": "https://localhost:8080/",
          "height": 121
        },
        "colab_type": "code",
        "id": "Gjf0pb9WftFX",
        "outputId": "493f8a13-bda6-4e89-d8ca-a1f9f8025da1"
      },
      "outputs": [
        {
          "name": "stdout",
          "output_type": "stream",
          "text": [
            "Prateek saved dhiraj because\n",
            "he could say in her sinkerstands. The man to teer all the stands and sould\n",
            "and all that they helped the same to him, a carriage they're with the contrert\n",
            "instinctively and sought of the country.\"\n",
            "\n",
            "\"I have some note, I was to boly to more to but him. \n"
          ]
        }
      ],
      "source": [
        "# Sample using a loaded model\n",
        "print(sample(loaded, 250, top_k=5, prime=\"Prateek saved dhiraj because\"))"
      ]
    }
  ]
}