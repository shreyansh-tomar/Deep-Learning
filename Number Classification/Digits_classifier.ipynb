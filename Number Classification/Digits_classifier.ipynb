{
 "cells": [
  {
   "cell_type": "markdown",
   "metadata": {},
   "source": [
    "The MNIST handwritten digit classification problem is a standard dataset used in Computer Vision and Deep Learing Models.\n",
    "Here we will harness the power of Neural Networks to build a deep learning model and train it for recognising __Handwritten Digits__. <br>\n",
    "__NOTE__:The recognised digit is shown as a plot(digits vs probability).\n"
   ]
  },
  {
   "cell_type": "code",
   "execution_count": 1,
   "metadata": {},
   "outputs": [],
   "source": [
    "import torch\n",
    "from torch import nn\n",
    "import torch.nn.functional as F\n",
    "from torchvision import datasets, transforms\n",
    "from torch import optim\n",
    "\n",
    "#Defining a transform to normalize the data\n",
    "transform = transforms.Compose([transforms.ToTensor(),\n",
    "            transforms.Normalize((0.5,),(0.5,)),                    \n",
    "            ])\n",
    "#Downloading and training the dataset\n",
    "trainset = datasets.MNIST('~/.pytorch/MNIST_data/', download=True, train= True, transform = transform)\n",
    "trainloader = torch.utils.data.DataLoader(trainset, batch_size=64, shuffle = True)"
   ]
  },
  {
   "cell_type": "code",
   "execution_count": 2,
   "metadata": {},
   "outputs": [
    {
     "name": "stdout",
     "output_type": "stream",
     "text": [
      "Before Backward:\n",
      " None\n",
      "After Backward:\n",
      " tensor([[-2.8558e-05, -2.8558e-05, -2.8558e-05,  ..., -2.8558e-05,\n",
      "         -2.8558e-05, -2.8558e-05],\n",
      "        [-1.7204e-03, -1.7204e-03, -1.7204e-03,  ..., -1.7204e-03,\n",
      "         -1.7204e-03, -1.7204e-03],\n",
      "        [ 5.4019e-04,  5.4019e-04,  5.4019e-04,  ...,  5.4019e-04,\n",
      "          5.4019e-04,  5.4019e-04],\n",
      "        ...,\n",
      "        [-2.2437e-04, -2.2437e-04, -2.2437e-04,  ..., -2.2437e-04,\n",
      "         -2.2437e-04, -2.2437e-04],\n",
      "        [ 6.0656e-04,  6.0656e-04,  6.0656e-04,  ...,  6.0656e-04,\n",
      "          6.0656e-04,  6.0656e-04],\n",
      "        [ 4.8198e-04,  4.8198e-04,  4.8198e-04,  ...,  4.8198e-04,\n",
      "          4.8198e-04,  4.8198e-04]])\n"
     ]
    }
   ],
   "source": [
    "#Building a feed-forward model\n",
    "\n",
    "model = nn.Sequential(nn.Linear(784,128),\n",
    "                     nn.ReLU(),\n",
    "                     nn.Linear(128,64),\n",
    "                     nn.ReLU(),\n",
    "                     nn.Linear(64,10),\n",
    "                     nn.LogSoftmax(dim = 1))\n",
    "#Defining Loss\n",
    "criterion = nn.NLLLoss()\n",
    "\n",
    "#Getting the data\n",
    "images, lables = next(iter(trainloader))\n",
    "\n",
    "#Flatening the images\n",
    "images = images.view(images.shape[0], -1)\n",
    "\n",
    "#forward pass and get our probabilities(because of Softmax use in model)\n",
    "logpbs = model(images)\n",
    "\n",
    "#Calculating loss\n",
    "loss = criterion(logpbs, lables)\n",
    "print('Before Backward:\\n', model[0].weight.grad)\n",
    "loss.backward()\n",
    "print('After Backward:\\n', model[0].weight.grad)"
   ]
  },
  {
   "cell_type": "code",
   "execution_count": 3,
   "metadata": {},
   "outputs": [
    {
     "name": "stdout",
     "output_type": "stream",
     "text": [
      "Initial weights -  Parameter containing:\n",
      "tensor([[-1.0889e-02, -7.2019e-03, -4.6896e-04,  ...,  6.6161e-06,\n",
      "         -4.1888e-03,  2.5887e-02],\n",
      "        [-2.8772e-02, -3.1041e-02,  1.9158e-03,  ...,  2.4674e-02,\n",
      "         -6.5933e-03,  3.0679e-02],\n",
      "        [-3.0857e-02,  1.3269e-02,  1.1038e-05,  ...,  1.4617e-02,\n",
      "          6.7315e-03,  2.4957e-02],\n",
      "        ...,\n",
      "        [ 8.3062e-04, -2.3143e-02, -3.2421e-02,  ..., -1.0852e-02,\n",
      "         -3.4783e-02, -2.0181e-02],\n",
      "        [-3.0668e-02,  2.0341e-04, -3.3294e-02,  ...,  2.3626e-02,\n",
      "          3.1622e-02,  2.9218e-02],\n",
      "        [-2.0081e-02,  2.8791e-02,  2.9054e-02,  ..., -6.0315e-03,\n",
      "         -1.8485e-02,  5.0280e-03]], requires_grad=True)\n",
      "Final weights -  tensor([[-1.2269e-03, -1.2269e-03, -1.2269e-03,  ..., -1.2269e-03,\n",
      "         -1.2269e-03, -1.2269e-03],\n",
      "        [-1.0214e-03, -1.0214e-03, -1.0214e-03,  ..., -1.0214e-03,\n",
      "         -1.0214e-03, -1.0214e-03],\n",
      "        [-6.2344e-04, -6.2344e-04, -6.2344e-04,  ..., -6.2345e-04,\n",
      "         -6.2345e-04, -6.2345e-04],\n",
      "        ...,\n",
      "        [ 7.8645e-05,  7.8645e-05,  7.8645e-05,  ...,  7.8645e-05,\n",
      "          7.8645e-05,  7.8645e-05],\n",
      "        [-3.4162e-04, -3.4162e-04, -3.4162e-04,  ..., -3.4162e-04,\n",
      "         -3.4162e-04, -3.4162e-04],\n",
      "        [ 1.7276e-03,  1.7276e-03,  1.7276e-03,  ...,  1.7276e-03,\n",
      "          1.7276e-03,  1.7276e-03]])\n",
      "Final weights -  Parameter containing:\n",
      "tensor([[-1.0877e-02, -7.1896e-03, -4.5669e-04,  ...,  1.8885e-05,\n",
      "         -4.1765e-03,  2.5899e-02],\n",
      "        [-2.8762e-02, -3.1031e-02,  1.9260e-03,  ...,  2.4684e-02,\n",
      "         -6.5831e-03,  3.0690e-02],\n",
      "        [-3.0851e-02,  1.3275e-02,  1.7272e-05,  ...,  1.4624e-02,\n",
      "          6.7377e-03,  2.4963e-02],\n",
      "        ...,\n",
      "        [ 8.2983e-04, -2.3144e-02, -3.2422e-02,  ..., -1.0853e-02,\n",
      "         -3.4784e-02, -2.0182e-02],\n",
      "        [-3.0664e-02,  2.0682e-04, -3.3290e-02,  ...,  2.3630e-02,\n",
      "          3.1625e-02,  2.9221e-02],\n",
      "        [-2.0099e-02,  2.8774e-02,  2.9037e-02,  ..., -6.0487e-03,\n",
      "         -1.8502e-02,  5.0107e-03]], requires_grad=True)\n"
     ]
    }
   ],
   "source": [
    "print('Initial weights - ', model[0].weight)\n",
    "\n",
    "optimizer = optim.SGD(model.parameters(), lr = 0.01)\n",
    "\n",
    "\n",
    "images, labels = next(iter(trainloader))\n",
    "\n",
    "images = images.view(images.shape[0], -1)\n",
    "\n",
    "optimizer.zero_grad()\n",
    "\n",
    "logpbs = model(images)\n",
    "loss = criterion(logpbs, labels)\n",
    "loss.backward()\n",
    "print('Final weights - ', model[0].weight.grad)\n",
    "\n",
    "optimizer.step()\n",
    "print('Final weights - ', model[0].weight)"
   ]
  },
  {
   "cell_type": "code",
   "execution_count": 22,
   "metadata": {},
   "outputs": [
    {
     "name": "stdout",
     "output_type": "stream",
     "text": [
      "Training loss: , 1.9280258549301863\n",
      "Training loss: , 0.9204785964890584\n",
      "Training loss: , 0.5509008905336038\n",
      "Training loss: , 0.4427621492000023\n",
      "Training loss: , 0.3925962892136594\n",
      "Training loss: , 0.3641432217681713\n"
     ]
    }
   ],
   "source": [
    "model = nn.Sequential(nn.Linear(784,128),\n",
    "                     nn.ReLU(),\n",
    "                     nn.Linear(128,64),\n",
    "                     nn.ReLU(),\n",
    "                     nn.Linear(64,10),\n",
    "                     nn.LogSoftmax(dim = 1))\n",
    "criterion = nn.NLLLoss()\n",
    "optimizer = optim.SGD(model.parameters(),lr = 0.003)\n",
    "\n",
    "epochs = 6\n",
    "\n",
    "for e in range(epochs):\n",
    "    running_loss = 0\n",
    "    for images, labels in trainloader:\n",
    "        images = images.view(images.shape[0], -1)\n",
    "        optimizer.zero_grad()\n",
    "        output = model(images)\n",
    "        loss = criterion(output, labels)\n",
    "        \n",
    "        loss.backward()\n",
    "        optimizer.step()\n",
    "        running_loss += loss.item()\n",
    "        \n",
    "    else:\n",
    "        print(f\"Training loss: , {running_loss/len(trainloader)}\")"
   ]
  },
  {
   "cell_type": "code",
   "execution_count": 57,
   "metadata": {},
   "outputs": [
    {
     "data": {
      "image/png": "[encoded data removed]",
      "text/plain": [
       "<Figure size 432x648 with 2 Axes>"
      ]
     },
     "metadata": {
      "needs_background": "light"
     },
     "output_type": "display_data"
    }
   ],
   "source": [
    "%matplotlib inline\n",
    "import helper\n",
    "\n",
    "images, labels = next(iter(trainloader))\n",
    "\n",
    "img = images[0].view(1, 784)\n",
    "# Turn off gradients to speed up this part\n",
    "with torch.no_grad():\n",
    "    logps = model(img)\n",
    "\n",
    "# Output of the network are log-probabilities, need to take exponential for probabilities\n",
    "ps = torch.exp(logps)\n",
    "helper.view_classify(img.view(1, 28, 28), ps)"
   ]
  }
 ],
 "metadata": {
  "kernelspec": {
   "display_name": "Python 3",
   "language": "python",
   "name": "python3"
  },
  "language_info": {
   "codemirror_mode": {
    "name": "ipython",
    "version": 3
   },
   "file_extension": ".py",
   "mimetype": "text/x-python",
   "name": "python",
   "nbconvert_exporter": "python",
   "pygments_lexer": "ipython3",
   "version": "3.7.4"
  }
 },
 "nbformat": 4,
 "nbformat_minor": 4
}
