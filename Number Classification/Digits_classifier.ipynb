{
 "cells": [
  {
   "cell_type": "markdown",
   "metadata": {},
   "source": [
    "The MNIST handwritten digit classification problem is a standard dataset used in Computer Vision and Deep Learing Models.\n",
    "Here we will harness the power of Neural Networks to build a deep learning model and train it for recognising __Handwritten Digits__. <br>\n",
    "__NOTE__:The recognised digit is shown as a plot(digits vs probability).\n"
   ]
  },
  {
   "cell_type": "code",
   "execution_count": 1,
   "metadata": {},
   "outputs": [],
   "source": [
    "import torch\n",
    "from torch import nn\n",
    "import torch.nn.functional as F\n",
    "from torchvision import datasets, transforms\n",
    "from torch import optim\n",
    "import helper\n",
    "\n",
    "#Defining a transform to normalize the data\n",
    "transform = transforms.Compose([transforms.ToTensor(),\n",
    "            transforms.Normalize((0.5,),(0.5,)),                    \n",
    "            ])\n",
    "#Downloading and training the dataset\n",
    "trainset = datasets.MNIST('~/.pytorch/MNIST_data/', download=True, train= True, transform = transform)\n",
    "trainloader = torch.utils.data.DataLoader(trainset, batch_size=64, shuffle = True)"
   ]
  },
  {
   "cell_type": "code",
   "execution_count": 4,
   "metadata": {},
   "outputs": [
    {
     "name": "stdout",
     "output_type": "stream",
     "text": [
      "Before Backward:\n",
      " None\n",
      "After Backward:\n",
      " tensor([[-3.4123e-04, -3.4123e-04, -3.4123e-04,  ..., -3.4123e-04,\n",
      "         -3.4123e-04, -3.4123e-04],\n",
      "        [ 4.7934e-04,  4.7934e-04,  4.7934e-04,  ...,  4.7934e-04,\n",
      "          4.7934e-04,  4.7934e-04],\n",
      "        [-3.6934e-05, -3.6934e-05, -3.6934e-05,  ..., -3.6934e-05,\n",
      "         -3.6934e-05, -3.6934e-05],\n",
      "        ...,\n",
      "        [-3.2808e-04, -3.2808e-04, -3.2808e-04,  ..., -3.2808e-04,\n",
      "         -3.2808e-04, -3.2808e-04],\n",
      "        [ 1.5916e-03,  1.5916e-03,  1.5916e-03,  ...,  1.5916e-03,\n",
      "          1.5916e-03,  1.5916e-03],\n",
      "        [ 4.8313e-05,  4.8313e-05,  4.8313e-05,  ...,  4.8313e-05,\n",
      "          4.8313e-05,  4.8313e-05]])\n"
     ]
    }
   ],
   "source": [
    "#Building a feed-forward model\n",
    "\n",
    "model = nn.Sequential(nn.Linear(784,128),\n",
    "                     nn.ReLU(),\n",
    "                     nn.Linear(128,64),\n",
    "                     nn.ReLU(),\n",
    "                     nn.Linear(64,10),\n",
    "                     nn.LogSoftmax(dim = 1))\n",
    "#Defining Loss\n",
    "criterion = nn.NLLLoss()\n",
    "\n",
    "#Getting the data\n",
    "images, lables = next(iter(trainloader))\n",
    "\n",
    "#Flatening the images\n",
    "images = images.view(images.shape[0], -1)\n",
    "\n",
    "#forward pass and get our probabilities(because of Softmax use in model)\n",
    "logpbs = model(images)\n",
    "\n",
    "#Calculating loss\n",
    "loss = criterion(logpbs, lables)\n",
    "print('Before Backward:\\n', model[0].weight.grad)\n",
    "loss.backward()\n",
    "print('After Backward:\\n', model[0].weight.grad)"
   ]
  },
  {
   "cell_type": "code",
   "execution_count": 5,
   "metadata": {},
   "outputs": [
    {
     "name": "stdout",
     "output_type": "stream",
     "text": [
      "Initial weights -  Parameter containing:\n",
      "tensor([[ 1.3677e-02,  2.4260e-02, -3.5367e-02,  ..., -1.6010e-02,\n",
      "         -1.3083e-03,  1.0492e-02],\n",
      "        [-9.9794e-03, -7.0698e-03,  1.7925e-02,  ..., -2.9919e-02,\n",
      "          2.4530e-02,  9.7589e-03],\n",
      "        [ 8.0705e-05,  1.8660e-02,  2.0134e-02,  ...,  2.2551e-03,\n",
      "          3.0703e-02, -1.4037e-03],\n",
      "        ...,\n",
      "        [-2.7701e-03, -1.9501e-02, -6.4204e-03,  ..., -3.4450e-02,\n",
      "         -8.9416e-03,  4.0112e-03],\n",
      "        [-1.1003e-04, -3.2806e-02,  1.4117e-02,  ..., -1.5962e-02,\n",
      "         -2.5671e-02,  2.3669e-02],\n",
      "        [-3.0489e-02, -3.0313e-02, -6.8728e-04,  ..., -8.8647e-03,\n",
      "          2.1068e-02,  1.6244e-03]], requires_grad=True)\n",
      "Final weights -  tensor([[ 7.3269e-04,  7.3269e-04,  7.3269e-04,  ...,  7.3269e-04,\n",
      "          7.3269e-04,  7.3269e-04],\n",
      "        [-1.0237e-03, -1.0237e-03, -1.0237e-03,  ..., -1.0237e-03,\n",
      "         -1.0237e-03, -1.0237e-03],\n",
      "        [ 8.2413e-05,  8.2413e-05,  8.2413e-05,  ...,  8.2413e-05,\n",
      "          8.2413e-05,  8.2413e-05],\n",
      "        ...,\n",
      "        [ 2.0261e-04,  2.0261e-04,  2.0261e-04,  ...,  2.0261e-04,\n",
      "          2.0261e-04,  2.0261e-04],\n",
      "        [ 4.1929e-05,  4.1929e-05,  4.1929e-05,  ...,  4.1929e-05,\n",
      "          4.1929e-05,  4.1929e-05],\n",
      "        [ 6.2876e-04,  6.2876e-04,  6.2876e-04,  ...,  6.2876e-04,\n",
      "          6.2876e-04,  6.2876e-04]])\n",
      "Final weights -  Parameter containing:\n",
      "tensor([[ 1.3669e-02,  2.4252e-02, -3.5375e-02,  ..., -1.6017e-02,\n",
      "         -1.3156e-03,  1.0485e-02],\n",
      "        [-9.9691e-03, -7.0595e-03,  1.7935e-02,  ..., -2.9909e-02,\n",
      "          2.4540e-02,  9.7691e-03],\n",
      "        [ 7.9881e-05,  1.8659e-02,  2.0133e-02,  ...,  2.2543e-03,\n",
      "          3.0702e-02, -1.4046e-03],\n",
      "        ...,\n",
      "        [-2.7721e-03, -1.9503e-02, -6.4224e-03,  ..., -3.4452e-02,\n",
      "         -8.9437e-03,  4.0092e-03],\n",
      "        [-1.1045e-04, -3.2806e-02,  1.4116e-02,  ..., -1.5963e-02,\n",
      "         -2.5671e-02,  2.3668e-02],\n",
      "        [-3.0495e-02, -3.0319e-02, -6.9357e-04,  ..., -8.8710e-03,\n",
      "          2.1061e-02,  1.6181e-03]], requires_grad=True)\n"
     ]
    }
   ],
   "source": [
    "print('Initial weights - ', model[0].weight)\n",
    "\n",
    "optimizer = optim.SGD(model.parameters(), lr = 0.01)\n",
    "\n",
    "\n",
    "images, labels = next(iter(trainloader))\n",
    "\n",
    "images = images.view(images.shape[0], -1)\n",
    "\n",
    "optimizer.zero_grad()\n",
    "\n",
    "logpbs = model(images)\n",
    "loss = criterion(logpbs, labels)\n",
    "loss.backward()\n",
    "print('Final weights - ', model[0].weight.grad)\n",
    "\n",
    "optimizer.step()\n",
    "print('Final weights - ', model[0].weight)"
   ]
  },
  {
   "cell_type": "code",
   "execution_count": 6,
   "metadata": {},
   "outputs": [
    {
     "name": "stdout",
     "output_type": "stream",
     "text": [
      "Training loss: , 1.8897874332440179\n",
      "Training loss: , 0.835665123326692\n",
      "Training loss: , 0.5341162552902186\n",
      "Training loss: , 0.4360401889980475\n",
      "Training loss: , 0.3892162507022622\n"
     ]
    }
   ],
   "source": [
    "model = nn.Sequential(nn.Linear(784,128),\n",
    "                     nn.ReLU(),\n",
    "                     nn.Linear(128,64),\n",
    "                     nn.ReLU(),\n",
    "                     nn.Linear(64,10),\n",
    "                     nn.LogSoftmax(dim = 1))\n",
    "criterion = nn.NLLLoss()\n",
    "optimizer = optim.SGD(model.parameters(),lr = 0.003)\n",
    "\n",
    "epochs = 5\n",
    "\n",
    "for e in range(epochs):\n",
    "    running_loss = 0\n",
    "    for images, labels in trainloader:\n",
    "        images = images.view(images.shape[0], -1)\n",
    "        optimizer.zero_grad()\n",
    "        output = model(images)\n",
    "        loss = criterion(output, labels)\n",
    "        \n",
    "        loss.backward()\n",
    "        optimizer.step()\n",
    "        running_loss += loss.item()\n",
    "        \n",
    "    else:\n",
    "        print(f\"Training loss: , {running_loss/len(trainloader)}\")"
   ]
  },
  {
   "cell_type": "code",
   "execution_count": 22,
   "metadata": {},
   "outputs": [
    {
     "data": {
      "image/png": "[encoded data removed]",
      "text/plain": [
       "<Figure size 432x648 with 2 Axes>"
      ]
     },
     "metadata": {
      "needs_background": "light"
     },
     "output_type": "display_data"
    }
   ],
   "source": [
    "%matplotlib inline\n",
    "import helper\n",
    "\n",
    "images, labels = next(iter(trainloader))\n",
    "\n",
    "img = images[0].view(1, 784)\n",
    "# Turn off gradients to speed up this part\n",
    "with torch.no_grad():\n",
    "    logps = model(img)\n",
    "\n",
    "# Output of the network are log-probabilities, need to take exponential for probabilities\n",
    "ps = torch.exp(logps)\n",
    "helper.view_classify(img.view(1, 28, 28), ps)"
   ]
  },
  {
   "cell_type": "code",
   "execution_count": null,
   "metadata": {},
   "outputs": [],
   "source": []
  }
 ],
 "metadata": {
  "kernelspec": {
   "display_name": "Python 3",
   "language": "python",
   "name": "python3"
  },
  "language_info": {
   "codemirror_mode": {
    "name": "ipython",
    "version": 3
   },
   "file_extension": ".py",
   "mimetype": "text/x-python",
   "name": "python",
   "nbconvert_exporter": "python",
   "pygments_lexer": "ipython3",
   "version": "3.7.4"
  }
 },
 "nbformat": 4,
 "nbformat_minor": 4
}
