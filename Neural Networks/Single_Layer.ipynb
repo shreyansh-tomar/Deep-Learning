<<<<<<< HEAD
{
 "cells": [
  {
   "cell_type": "code",
   "execution_count": 1,
   "metadata": {},
   "outputs": [
    {
     "name": "stdout",
     "output_type": "stream",
     "text": [
      "tensor([[0.1595]])\n",
      "tensor([[0.1595]])\n"
     ]
    }
   ],
   "source": [
    "#Getting Started with Tensors in Pytorch by building single layered and multilayered Neural Network\n",
    "import torch\n",
    "\n",
    "def activation(x):\n",
    "    return 1/(1 + torch.exp(-x))\n",
    "\n",
    "### Generate some data\n",
    "torch.manual_seed(7) # Set the random seed so things are predictable\n",
    "\n",
    "# Features are 5 random normal variables\n",
    "features = torch.randn((1, 5))\n",
    "# True weights for our data, random normal variables again\n",
    "weights = torch.randn_like(features)\n",
    "# and a true bias term\n",
    "bias = torch.randn((1, 1))\n",
    "\n",
    "##output of this network using the weights and bias tensors\n",
    "y = activation(torch.sum(features*weights) + bias)\n",
    "#OR\n",
    "y = activation((features*weights).sum() + bias)\n",
    "print(y)\n",
    "\n",
    "## Calculate the output of this network using matrix multiplication\n",
    "weights = weights.view(5,1)\n",
    "y = activation(torch.mm(features, weights) + bias)\n",
    "\n",
    "print(y)"
   ]
  },
  {
   "cell_type": "code",
   "execution_count": null,
   "metadata": {},
   "outputs": [],
   "source": []
  }
 ],
 "metadata": {
  "kernelspec": {
   "display_name": "Python 3",
   "language": "python",
   "name": "python3"
  },
  "language_info": {
   "codemirror_mode": {
    "name": "ipython",
    "version": 3
   },
   "file_extension": ".py",
   "mimetype": "text/x-python",
   "name": "python",
   "nbconvert_exporter": "python",
   "pygments_lexer": "ipython3",
   "version": "3.7.4"
  }
 },
 "nbformat": 4,
 "nbformat_minor": 4
}
=======
#Tensors in Pytorch by building single layered and multilayered Neural Network
import torch

def activation(x):
    return 1/(1 + torch.exp(-x))

### Generate some data
torch.manual_seed(7) # Set the random seed so things are predictable

# Features are 5 random normal variables
features = torch.randn((1, 5))
# True weights for our data, random normal variables again
weights = torch.randn_like(features)
# and a true bias term
bias = torch.randn((1, 1))

##output of this network using the weights and bias tensors
y = activation(torch.sum(features*weights) + bias)
#OR
y = activation((features*weights).sum() + bias)
print(y)

## Calculate the output of this network using matrix multiplication
weights = weights.view(5,1)
y = activation(torch.mm(features, weights) + bias)

print(y)
>>>>>>> d42b30fc9292b8c9de1849bb706a2136d463e78f
